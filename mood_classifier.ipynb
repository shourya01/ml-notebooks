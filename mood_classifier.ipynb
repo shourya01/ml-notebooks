{
 "cells": [
  {
   "cell_type": "code",
   "execution_count": 1,
   "metadata": {},
   "outputs": [],
   "source": [
    "import requests\n",
    "import tarfile\n",
    "import os\n",
    "import numpy as np\n",
    "from PIL import Image\n",
    "import cv2\n",
    "import shutil\n",
    "import torch\n",
    "import torch.nn as nn\n",
    "import matplotlib.pyplot as plt\n",
    "cur_device = \"cpu\"\n",
    "from tqdm import tqdm,trange\n",
    "import torch.optim as optim\n",
    "import torch.nn.functional as F\n",
    "os.environ['CUDA_LAUNCH_BLOCKING'] = \"1\" "
   ]
  },
  {
   "cell_type": "code",
   "execution_count": 2,
   "metadata": {},
   "outputs": [],
   "source": [
    "def color_channel_first(x):\n",
    "    rchannel = x[:,:,0]\n",
    "    gchannel = x[:,:,1]\n",
    "    bchannel = x[:,:,2]\n",
    "    return np.array([rchannel,gchannel,bchannel])"
   ]
  },
  {
   "cell_type": "code",
   "execution_count": 3,
   "metadata": {},
   "outputs": [],
   "source": [
    "# download cmu faces image dataset, and convert it to torch tensor\n",
    "URL = 'https://archive.ics.uci.edu/ml/machine-learning-databases/faces-mld/faces.tar.gz'\n",
    "response = requests.get(URL)\n",
    "open('faces.tar.gz', 'wb').write(response.content)\n",
    "with tarfile.open('faces.tar.gz', \"r:gz\") as cur_tar:\n",
    "    cur_tar.extractall(os.getcwd())\n",
    "os.remove('faces.tar.gz')\n",
    "\n",
    "ext = '.pgm'\n",
    "headval = {\"straight\":0,\"left\":1,\"right\":2,\"up\":3}\n",
    "faceval = {\"neutral\":0,\"happy\":1,\"sad\":2,\"angry\":3}\n",
    "eyeval = {\"open\":0,\"sunglasses\":1}\n",
    "f_to_idx = lambda x: [headval[x[0]],faceval[x[1]],eyeval[x[2]]]\n",
    "\n",
    "X = []\n",
    "Y = []\n",
    "\n",
    "for subdir,dirs,files in os.walk(os.path.join(os.getcwd(),'faces')):\n",
    "    for file_val in files:\n",
    "        curfile = os.path.join(subdir,file_val)\n",
    "        if curfile.endswith(ext):\n",
    "            if not (curfile.endswith('_2'+ext) or curfile.endswith('_4'+ext)):\n",
    "                X.append(cv2.imread(curfile))\n",
    "                attrs = file_val[:-4].split('_')[1:]\n",
    "                Y.append(np.array(f_to_idx(attrs)))\n",
    "                \n",
    "shutil.rmtree(os.path.join(os.getcwd(),'faces'))\n",
    "\n",
    "# process the data to bring color channel first\n",
    "X = np.array(X)\n",
    "Y = np.array(Y)\n",
    "Xtemp = []\n",
    "for i in range(X.shape[0]):\n",
    "    Xtemp.append(color_channel_first(X[i,:,:,:]))\n",
    "X = np.array(Xtemp)\n",
    "\n",
    "device = torch.device(cur_device)\n",
    "X = torch.from_numpy(X)\n",
    "Y = torch.from_numpy(Y)\n",
    "\n",
    "# split into train and validation sets\n",
    "val_elements = 100\n",
    "val_idx = np.random.randint(0,X.shape[0],size=(val_elements))\n",
    "train_idx = np.setdiff1d(np.array(range(X.shape[0])),val_idx)\n",
    "X_train = X[train_idx,:,:,:]\n",
    "Y_train = Y[train_idx,:]\n",
    "X_val = X[val_idx,:,:,:]\n",
    "Y_val = Y[val_idx,:]"
   ]
  },
  {
   "cell_type": "code",
   "execution_count": 4,
   "metadata": {},
   "outputs": [],
   "source": [
    "class MoodNet(nn.Module):\n",
    "    def __init__(self):\n",
    "        super().__init__()\n",
    "        self.conv1 = nn.Conv2d(3,6,8)\n",
    "        self.pool = nn.MaxPool2d((5,5))\n",
    "        self.conv2 = nn.Conv2d(6,10,8)\n",
    "        self.fc1 = nn.Linear(90,45)\n",
    "        self.fc2 = nn.Linear(45,10)\n",
    "        \n",
    "    def forward(self,x):\n",
    "        x = self.pool(F.relu(self.conv1(x)))\n",
    "        x = self.pool(F.relu(self.conv2(x)))\n",
    "        x = torch.flatten(x,start_dim=1,end_dim=3)\n",
    "        #print(x.shape)\n",
    "        x = F.relu(self.fc1(x))\n",
    "        return self.fc2(x)"
   ]
  },
  {
   "cell_type": "code",
   "execution_count": 5,
   "metadata": {},
   "outputs": [
    {
     "name": "stderr",
     "output_type": "stream",
     "text": [
      "train loss 1.097, val loss 2.358: 100%|██████████| 1000/1000 [01:00<00:00, 16.59it/s]\n"
     ]
    }
   ],
   "source": [
    "# training loop\n",
    "model = MoodNet().to(device)\n",
    "X_train = X_train.float().to(device)\n",
    "Y_train = Y_train.long().to(device)\n",
    "X_val = X_val.float().to(device)\n",
    "Y_val = Y_val.long().to(device)\n",
    "optimizer = optim.SGD(model.parameters(), lr=5e-4)\n",
    "n_epochs = 1000\n",
    "loss_fn = nn.CrossEntropyLoss()\n",
    "losses = []\n",
    "val_losses = []\n",
    "BS = 8 # batch size\n",
    "\n",
    "for i in (t:=trange(n_epochs)):\n",
    "    samp = np.random.randint(0,X_train.shape[0],(BS))\n",
    "    X = X_train[samp,:,:,:]\n",
    "    Y = Y_train[samp,:]\n",
    "    out = model(X)\n",
    "    l1 = loss_fn(out[:,:4],Y[:,0])\n",
    "    l2 = loss_fn(out[:,4:8],Y[:,1])\n",
    "    l3 = loss_fn(out[:,8:],Y[:,2])\n",
    "    loss = l1+l2+l3\n",
    "    optimizer.zero_grad()\n",
    "    loss.mean().backward()\n",
    "    optimizer.step()\n",
    "    losses.append(loss.item())\n",
    "    # calculate val loss\n",
    "    val_out = model(X_val)\n",
    "    l1v = loss_fn(val_out[:,:4],Y_val[:,0])\n",
    "    l2v = loss_fn(val_out[:,4:8],Y_val[:,1])\n",
    "    l3v = loss_fn(val_out[:,8:],Y_val[:,2])\n",
    "    lv = l1v+l2v+l3v\n",
    "    val_losses.append(lv.mean().item())\n",
    "    t.set_description(\"train loss %.3f, val loss %.3f\" % (loss.item(),lv.item()))"
   ]
  },
  {
   "cell_type": "code",
   "execution_count": 6,
   "metadata": {},
   "outputs": [
    {
     "data": {
      "image/png": "[encoded data removed]",
      "text/plain": [
       "<Figure size 576x396 with 1 Axes>"
      ]
     },
     "metadata": {},
     "output_type": "display_data"
    }
   ],
   "source": [
    "import matplotlib as mpl\n",
    "mpl.style.use('seaborn')\n",
    "plt.plot(losses,label='train loss')\n",
    "plt.plot(val_losses,label='val loss')\n",
    "plt.xlabel('epochs')\n",
    "plt.ylabel('loss')\n",
    "plt.show()"
   ]
  }
 ],
 "metadata": {
  "kernelspec": {
   "display_name": "Python 3.9.7 64-bit",
   "language": "python",
   "name": "python3"
  },
  "language_info": {
   "codemirror_mode": {
    "name": "ipython",
    "version": 3
   },
   "file_extension": ".py",
   "mimetype": "text/x-python",
   "name": "python",
   "nbconvert_exporter": "python",
   "pygments_lexer": "ipython3",
   "version": "3.9.7"
  },
  "orig_nbformat": 4,
  "vscode": {
   "interpreter": {
    "hash": "7690b9c5cd6f48182876c26e637e2e56539a382ee4e81fee1293600e65c03538"
   }
  }
 },
 "nbformat": 4,
 "nbformat_minor": 2
}
